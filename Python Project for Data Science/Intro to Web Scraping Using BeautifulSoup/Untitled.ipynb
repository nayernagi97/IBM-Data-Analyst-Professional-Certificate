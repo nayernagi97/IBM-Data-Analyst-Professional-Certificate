{
 "cells": [
  {
   "cell_type": "code",
   "execution_count": 1,
   "id": "393350e4-3ad5-4358-88df-682b0aec1c82",
   "metadata": {},
   "outputs": [],
   "source": [
    "from urllib.request import urlopen\n",
    "from bs4 import BeautifulSoup"
   ]
  },
  {
   "cell_type": "code",
   "execution_count": 3,
   "id": "e9bb1445-9b0a-4828-bcee-aeb03570b0b4",
   "metadata": {},
   "outputs": [],
   "source": [
    "url = 'http://py4e-data.dr-chuck.net/comments_42.html'\n",
    "html = urlopen(url)\n",
    "soup = BeautifulSoup(html, \"html.parser\")"
   ]
  },
  {
   "cell_type": "code",
   "execution_count": 52,
   "id": "387c0325-b69b-43db-9cf1-03b3cc1edfd5",
   "metadata": {},
   "outputs": [
    {
     "name": "stdout",
     "output_type": "stream",
     "text": [
      "97\n",
      "97\n",
      "90\n",
      "90\n",
      "88\n",
      "87\n",
      "87\n",
      "80\n",
      "79\n",
      "79\n",
      "78\n",
      "76\n",
      "76\n",
      "72\n",
      "72\n",
      "66\n",
      "66\n",
      "65\n",
      "65\n",
      "64\n",
      "61\n",
      "61\n",
      "59\n",
      "58\n",
      "57\n",
      "57\n",
      "54\n",
      "51\n",
      "49\n",
      "47\n",
      "40\n",
      "38\n",
      "37\n",
      "36\n",
      "36\n",
      "32\n",
      "25\n",
      "24\n",
      "22\n",
      "21\n",
      "19\n",
      "18\n",
      "18\n",
      "14\n",
      "12\n",
      "12\n",
      "9\n",
      "7\n",
      "3\n",
      "2\n"
     ]
    }
   ],
   "source": [
    "tags = soup('span')\n",
    "for tag in tags:\n",
    "    print(tag.contents[0])"
   ]
  },
  {
   "cell_type": "code",
   "execution_count": null,
   "id": "b397def0-6369-4b8c-8483-43624533e855",
   "metadata": {},
   "outputs": [],
   "source": []
  }
 ],
 "metadata": {
  "kernelspec": {
   "display_name": "Python 3 (ipykernel)",
   "language": "python",
   "name": "python3"
  },
  "language_info": {
   "codemirror_mode": {
    "name": "ipython",
    "version": 3
   },
   "file_extension": ".py",
   "mimetype": "text/x-python",
   "name": "python",
   "nbconvert_exporter": "python",
   "pygments_lexer": "ipython3",
   "version": "3.10.4"
  }
 },
 "nbformat": 4,
 "nbformat_minor": 5
}
